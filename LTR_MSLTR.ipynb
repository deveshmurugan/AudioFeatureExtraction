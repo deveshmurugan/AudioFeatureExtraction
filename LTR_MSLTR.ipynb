{
  "nbformat": 4,
  "nbformat_minor": 0,
  "metadata": {
    "colab": {
      "name": "LTR Github",
      "provenance": [],
      "collapsed_sections": [],
      "toc_visible": true,
      "include_colab_link": true
    },
    "kernelspec": {
      "name": "python3",
      "display_name": "Python 3"
    }
  },
  "cells": [
    {
      "cell_type": "markdown",
      "metadata": {
        "id": "view-in-github",
        "colab_type": "text"
      },
      "source": [
        "<a href=\"https://colab.research.google.com/github/deveshmurugan/AudioFeatureExtraction/blob/master/LTR_MSLTR.ipynb\" target=\"_parent\"><img src=\"https://colab.research.google.com/assets/colab-badge.svg\" alt=\"Open In Colab\"/></a>"
      ]
    },
    {
      "cell_type": "code",
      "metadata": {
        "id": "vQbF5lfeQ7B-"
      },
      "source": [
        "import lightgbm as lgb\n",
        "import pandas as pd"
      ],
      "execution_count": 1,
      "outputs": []
    },
    {
      "cell_type": "code",
      "metadata": {
        "id": "p_4tmowxOHAF",
        "colab": {
          "base_uri": "https://localhost:8080/"
        },
        "outputId": "baf94083-d42c-410f-c88b-29e88bf89df0"
      },
      "source": [
        "!wget https://storage.googleapis.com/personalization-takehome/MSLR-WEB10K.zip\n",
        "!unzip MSLR-WEB10K.zip"
      ],
      "execution_count": 2,
      "outputs": [
        {
          "output_type": "stream",
          "text": [
            "--2020-12-10 17:17:23--  https://storage.googleapis.com/personalization-takehome/MSLR-WEB10K.zip\n",
            "Resolving storage.googleapis.com (storage.googleapis.com)... 172.217.204.128, 172.217.203.128, 172.253.123.128, ...\n",
            "Connecting to storage.googleapis.com (storage.googleapis.com)|172.217.204.128|:443... connected.\n",
            "HTTP request sent, awaiting response... 200 OK\n",
            "Length: 1234144912 (1.1G) [application/zip]\n",
            "Saving to: ‘MSLR-WEB10K.zip’\n",
            "\n",
            "MSLR-WEB10K.zip     100%[===================>]   1.15G   104MB/s    in 12s     \n",
            "\n",
            "2020-12-10 17:17:36 (95.6 MB/s) - ‘MSLR-WEB10K.zip’ saved [1234144912/1234144912]\n",
            "\n",
            "Archive:  MSLR-WEB10K.zip\n",
            "   creating: Fold1/\n",
            "  inflating: Fold1/test.txt          \n",
            "  inflating: Fold1/train.txt         \n",
            "  inflating: Fold1/vali.txt          \n",
            "   creating: Fold2/\n",
            "  inflating: Fold2/test.txt          \n",
            "  inflating: Fold2/train.txt         \n",
            "  inflating: Fold2/vali.txt          \n",
            "   creating: Fold3/\n",
            "  inflating: Fold3/test.txt          \n",
            "  inflating: Fold3/train.txt         \n",
            "  inflating: Fold3/vali.txt          \n",
            "   creating: Fold4/\n",
            "  inflating: Fold4/test.txt          \n",
            "  inflating: Fold4/train.txt         \n",
            "  inflating: Fold4/vali.txt          \n",
            "   creating: Fold5/\n",
            "  inflating: Fold5/test.txt          \n",
            "  inflating: Fold5/train.txt         \n",
            "  inflating: Fold5/vali.txt          \n"
          ],
          "name": "stdout"
        }
      ]
    },
    {
      "cell_type": "code",
      "metadata": {
        "id": "jOEYcvtY6r6M"
      },
      "source": [
        "def convert(input_filename, out_data_filename, out_query_filename, out_query_filename2):\n",
        "\tinput = open(input_filename,\"r\")\n",
        "\toutput_feature = open(out_data_filename,\"w\")\n",
        "\toutput_query = open(out_query_filename,\"w\")\n",
        "\toutput_query2 = open(out_query_filename2,\"w\")\n",
        "\tcur_cnt = 0\n",
        "\tcur_doc_cnt = 0\n",
        "\tlast_qid = -1\n",
        "\twhile True:\n",
        "\t\tline = input.readline()\n",
        "\t\tif not line:\n",
        "\t\t\tbreak\n",
        "\t\ttokens = line.split(' ')\n",
        "\t\ttokens[-1] = tokens[-1].strip()\n",
        "\t\tlabel = tokens[0]\n",
        "\t\tqid = int(tokens[1].split(':')[1])\n",
        "\t\tif qid != last_qid:\n",
        "\t\t\tif cur_doc_cnt > 0:\n",
        "\t\t\t\toutput_query.write(str(cur_doc_cnt) + '\\n')\n",
        "\t\t\t\toutput_query2.write(str(cur_doc_cnt) + '\\n')\n",
        "\t\t\t\tcur_cnt += 1\n",
        "\t\t\tcur_doc_cnt = 0\n",
        "\t\t\tlast_qid = qid\n",
        "\t\tcur_doc_cnt += 1\n",
        "\t\toutput_feature.write(label+' ')\n",
        "\t\toutput_feature.write(' '.join(tokens[2:]) + '\\n')\n",
        "\toutput_query.write(str(cur_doc_cnt) + '\\n')\n",
        "\toutput_query2.write(str(cur_doc_cnt) + '\\n')\n",
        "\t\n",
        "\tinput.close()\n",
        "\toutput_query.close()\n",
        "\toutput_feature.close()\n",
        "\toutput_query2.close()"
      ],
      "execution_count": 3,
      "outputs": []
    },
    {
      "cell_type": "code",
      "metadata": {
        "id": "L4JIwrOFIpcS"
      },
      "source": [
        "def preprocess(): \n",
        "  train_data = lgb.Dataset(infile_train)\n",
        "  valid_data = lgb.Dataset(infile_valid)\n",
        "\n",
        "  train_group_size = [l.strip(\"\\n\") for l in open(infile_train + \".query\")]\n",
        "  valid_group_size = [l.strip(\"\\n\") for l in open(infile_valid + \".query\")]\n",
        "  train_data.set_group(train_group_size)\n",
        "  valid_data.set_group(valid_group_size)\n",
        "\n",
        "  a = pd.read_csv(path + \"test.txt\", sep = ' ',names=[\"label\",\"qid\"]+[str(c) for c in range(137)])\n",
        "  b = lambda c : c.split(\":\")[1]\n",
        "  temp = [\"qid\"]+list(str(c) for c in range(136))\n",
        "  for x in temp:\n",
        "    a[x] = a[x].apply(b)\n",
        "    a[x] = pd.to_numeric(a[x], downcast='float')\n",
        "  a = a.drop(columns= ['136'])\n",
        "\n",
        "  y_test = a['label']\n",
        "  x_test = a\n",
        "  x_test = x_test.drop(columns = ['label'])\n",
        "\n",
        "  return train_data, valid_data, x_test, y_test"
      ],
      "execution_count": 4,
      "outputs": []
    },
    {
      "cell_type": "code",
      "metadata": {
        "id": "frHrBKmTSUsq"
      },
      "source": [
        "def model(train_data, valid_data, x_test, y_test):\n",
        "  param = {\n",
        "      \"task\": \"train\",\n",
        "      \"num_leaves\": 255,\n",
        "      \"min_data_in_leaf\": 1,\n",
        "      \"min_sum_hessian_in_leaf\": 100,\n",
        "      \"objective\": \"lambdarank\",\n",
        "      \"metric\": \"ndcg\",\n",
        "      \"ndcg_eval_at\": [1, 3, 5, 10],\n",
        "      \"learning_rate\": .1,\n",
        "      \"num_threads\": 2\n",
        "  }\n",
        "\n",
        "  res = {}\n",
        "\n",
        "  bst = lgb.train(\n",
        "      param, train_data, \n",
        "      valid_sets=[valid_data], valid_names=[\"valid\"],\n",
        "      num_boost_round=50, evals_result=res, verbose_eval=10)\n",
        "\n",
        "  pred = bst.predict(x_test)"
      ],
      "execution_count": 5,
      "outputs": []
    },
    {
      "cell_type": "code",
      "metadata": {
        "id": "FpaP8jesTQMj",
        "colab": {
          "base_uri": "https://localhost:8080/"
        },
        "outputId": "cdb7b0bd-d786-47e3-af2b-5e1d39277117"
      },
      "source": [
        "infile_train = \"msltr.train\"\n",
        "infile_valid = \"msltr.vali\"\n",
        "path = \"/content/Fold1/\"\n",
        "#final_accuracy = []\n",
        "\n",
        "print(\"Preprocessing started for Fold 1\")\n",
        "\n",
        "convert(path + \"train.txt\",\"msltr.train\",\"msltr.train.query\",\"msltr.train.group\")\n",
        "convert(path + \"vali.txt\",\"msltr.vali\",\"msltr.vali.query\",\"msltr.vali.group\")\n",
        "\n",
        "train_data, valid_data, x_test, y_test = preprocess()\n",
        "\n",
        "print(\"Preprocessing complete for Fold 1\")\n",
        "\n",
        "print(\"Model being trained for Fold 1\")\n",
        "\n",
        "model(train_data, valid_data, x_test, y_test)\n",
        "print(\"Model Built for Fold 1!\")"
      ],
      "execution_count": 6,
      "outputs": [
        {
          "output_type": "stream",
          "text": [
            "Preprocessing started for Fold 1\n",
            "Preprocessing complete for Fold 1\n",
            "Model being trained for Fold 1\n",
            "[10]\tvalid's ndcg@1: 0.455681\tvalid's ndcg@3: 0.437979\tvalid's ndcg@5: 0.444602\tvalid's ndcg@10: 0.464371\n",
            "[20]\tvalid's ndcg@1: 0.465429\tvalid's ndcg@3: 0.451373\tvalid's ndcg@5: 0.458515\tvalid's ndcg@10: 0.477171\n",
            "[30]\tvalid's ndcg@1: 0.472543\tvalid's ndcg@3: 0.457106\tvalid's ndcg@5: 0.463132\tvalid's ndcg@10: 0.484247\n",
            "[40]\tvalid's ndcg@1: 0.476924\tvalid's ndcg@3: 0.46129\tvalid's ndcg@5: 0.469743\tvalid's ndcg@10: 0.489061\n",
            "[50]\tvalid's ndcg@1: 0.478405\tvalid's ndcg@3: 0.464368\tvalid's ndcg@5: 0.47404\tvalid's ndcg@10: 0.493132\n",
            "Model Built for Fold 1!\n"
          ],
          "name": "stdout"
        }
      ]
    },
    {
      "cell_type": "markdown",
      "metadata": {
        "id": "Z3vWlaHb5RNX"
      },
      "source": [
        "This cell builds model for the remaining 4 folds."
      ]
    },
    {
      "cell_type": "code",
      "metadata": {
        "colab": {
          "base_uri": "https://localhost:8080/"
        },
        "id": "8PdclS8HNzL2",
        "outputId": "179eab2c-8252-418b-f771-6e3cb37ab26b"
      },
      "source": [
        "infile_train = \"msltr.train\"\n",
        "infile_valid = \"msltr.vali\"\n",
        "\n",
        "for i in range(1, 6):\n",
        "  path = \"/content/Fold\"\n",
        "  path = path + str(i) + \"/\"\n",
        "  \n",
        "  print(\"Preprocessing started for Fold \" + str(i))\n",
        "\n",
        "  convert(path + \"train.txt\",\"msltr.train\",\"msltr.train.query\",\"msltr.train.group\")\n",
        "  convert(path + \"vali.txt\",\"msltr.vali\",\"msltr.vali.query\",\"msltr.vali.group\")\n",
        "\n",
        "  train_data, valid_data, x_test, y_test = preprocess()\n",
        "\n",
        "  print(\"Preprocessing complete for Fold \" + str(i))\n",
        "\n",
        "  model(train_data, valid_data, x_test, y_test)\n",
        "  \n",
        "  print(\"Model Built for Fold \" + str(i))"
      ],
      "execution_count": 7,
      "outputs": [
        {
          "output_type": "stream",
          "text": [
            "Preprocessing started for Fold 1\n",
            "Preprocessing complete for Fold 1\n",
            "[10]\tvalid's ndcg@1: 0.455681\tvalid's ndcg@3: 0.437979\tvalid's ndcg@5: 0.444602\tvalid's ndcg@10: 0.464371\n",
            "[20]\tvalid's ndcg@1: 0.465429\tvalid's ndcg@3: 0.451373\tvalid's ndcg@5: 0.458515\tvalid's ndcg@10: 0.477171\n",
            "[30]\tvalid's ndcg@1: 0.472543\tvalid's ndcg@3: 0.457106\tvalid's ndcg@5: 0.463132\tvalid's ndcg@10: 0.484247\n",
            "[40]\tvalid's ndcg@1: 0.476924\tvalid's ndcg@3: 0.46129\tvalid's ndcg@5: 0.469743\tvalid's ndcg@10: 0.489061\n",
            "[50]\tvalid's ndcg@1: 0.478405\tvalid's ndcg@3: 0.464368\tvalid's ndcg@5: 0.47404\tvalid's ndcg@10: 0.493132\n",
            "Model Built for Fold 1\n",
            "Preprocessing started for Fold 2\n",
            "Preprocessing complete for Fold 2\n",
            "[10]\tvalid's ndcg@1: 0.449619\tvalid's ndcg@3: 0.444051\tvalid's ndcg@5: 0.447898\tvalid's ndcg@10: 0.464068\n",
            "[20]\tvalid's ndcg@1: 0.463395\tvalid's ndcg@3: 0.450637\tvalid's ndcg@5: 0.45537\tvalid's ndcg@10: 0.475868\n",
            "[30]\tvalid's ndcg@1: 0.4771\tvalid's ndcg@3: 0.459334\tvalid's ndcg@5: 0.46354\tvalid's ndcg@10: 0.484109\n",
            "[40]\tvalid's ndcg@1: 0.483448\tvalid's ndcg@3: 0.466749\tvalid's ndcg@5: 0.470337\tvalid's ndcg@10: 0.490124\n",
            "[50]\tvalid's ndcg@1: 0.485595\tvalid's ndcg@3: 0.467873\tvalid's ndcg@5: 0.472814\tvalid's ndcg@10: 0.493293\n",
            "Model Built for Fold 2\n",
            "Preprocessing started for Fold 3\n",
            "Preprocessing complete for Fold 3\n",
            "[10]\tvalid's ndcg@1: 0.458757\tvalid's ndcg@3: 0.447498\tvalid's ndcg@5: 0.452728\tvalid's ndcg@10: 0.467729\n",
            "[20]\tvalid's ndcg@1: 0.476014\tvalid's ndcg@3: 0.461376\tvalid's ndcg@5: 0.462761\tvalid's ndcg@10: 0.477511\n",
            "[30]\tvalid's ndcg@1: 0.485219\tvalid's ndcg@3: 0.467215\tvalid's ndcg@5: 0.469189\tvalid's ndcg@10: 0.484616\n",
            "[40]\tvalid's ndcg@1: 0.486138\tvalid's ndcg@3: 0.470756\tvalid's ndcg@5: 0.473647\tvalid's ndcg@10: 0.489336\n",
            "[50]\tvalid's ndcg@1: 0.489186\tvalid's ndcg@3: 0.473494\tvalid's ndcg@5: 0.47553\tvalid's ndcg@10: 0.493014\n",
            "Model Built for Fold 3\n",
            "Preprocessing started for Fold 4\n",
            "Preprocessing complete for Fold 4\n",
            "[10]\tvalid's ndcg@1: 0.445762\tvalid's ndcg@3: 0.434135\tvalid's ndcg@5: 0.441236\tvalid's ndcg@10: 0.459311\n",
            "[20]\tvalid's ndcg@1: 0.460014\tvalid's ndcg@3: 0.445276\tvalid's ndcg@5: 0.450659\tvalid's ndcg@10: 0.471809\n",
            "[30]\tvalid's ndcg@1: 0.463381\tvalid's ndcg@3: 0.448666\tvalid's ndcg@5: 0.453431\tvalid's ndcg@10: 0.476475\n",
            "[40]\tvalid's ndcg@1: 0.468514\tvalid's ndcg@3: 0.4544\tvalid's ndcg@5: 0.460352\tvalid's ndcg@10: 0.481796\n",
            "[50]\tvalid's ndcg@1: 0.473395\tvalid's ndcg@3: 0.460192\tvalid's ndcg@5: 0.466997\tvalid's ndcg@10: 0.485958\n",
            "Model Built for Fold 4\n",
            "Preprocessing started for Fold 5\n",
            "Preprocessing complete for Fold 5\n",
            "[10]\tvalid's ndcg@1: 0.446657\tvalid's ndcg@3: 0.437172\tvalid's ndcg@5: 0.442531\tvalid's ndcg@10: 0.462065\n",
            "[20]\tvalid's ndcg@1: 0.45919\tvalid's ndcg@3: 0.451655\tvalid's ndcg@5: 0.456811\tvalid's ndcg@10: 0.475385\n",
            "[30]\tvalid's ndcg@1: 0.463143\tvalid's ndcg@3: 0.456757\tvalid's ndcg@5: 0.462872\tvalid's ndcg@10: 0.482158\n",
            "[40]\tvalid's ndcg@1: 0.473652\tvalid's ndcg@3: 0.462562\tvalid's ndcg@5: 0.469068\tvalid's ndcg@10: 0.487452\n",
            "[50]\tvalid's ndcg@1: 0.477771\tvalid's ndcg@3: 0.466671\tvalid's ndcg@5: 0.471415\tvalid's ndcg@10: 0.491538\n",
            "Model Built for Fold 5\n"
          ],
          "name": "stdout"
        }
      ]
    }
  ]
}